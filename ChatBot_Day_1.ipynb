{
  "nbformat": 4,
  "nbformat_minor": 0,
  "metadata": {
    "colab": {
      "name": "ChatBot - Day 1.ipynb",
      "provenance": [],
      "collapsed_sections": [],
      "include_colab_link": true
    },
    "kernelspec": {
      "name": "python3",
      "display_name": "Python 3"
    },
    "language_info": {
      "name": "python"
    }
  },
  "cells": [
    {
      "cell_type": "markdown",
      "metadata": {
        "id": "view-in-github",
        "colab_type": "text"
      },
      "source": [
        "<a href=\"https://colab.research.google.com/github/k3eril/cinema-project/blob/main/ChatBot_Day_1.ipynb\" target=\"_parent\"><img src=\"https://colab.research.google.com/assets/colab-badge.svg\" alt=\"Open In Colab\"/></a>"
      ]
    },
    {
      "cell_type": "code",
      "metadata": {
        "id": "IXQzLwUBCa5C"
      },
      "source": [
        "import random"
      ],
      "execution_count": null,
      "outputs": []
    },
    {
      "cell_type": "code",
      "metadata": {
        "id": "6IkwQbU_548q"
      },
      "source": [
        "BOT_CONFIG = {\n",
        "    'intents': {\n",
        "        'hello': {\n",
        "            'examples': ['Привет!', 'хэллоу', 'добрый день!!'],\n",
        "            'responses': ['хай', 'Здравствуйте', 'Доброе утро!']\n",
        "        },\n",
        "        'bye': {\n",
        "            'examples': ['Пока!', 'увидимся', 'счастливо'],\n",
        "            'responses': ['до свиданья', 'до скорых встреч', 'Спокойной ночи)']\n",
        "        }\n",
        "    }\n",
        "}"
      ],
      "execution_count": null,
      "outputs": []
    },
    {
      "cell_type": "code",
      "metadata": {
        "colab": {
          "base_uri": "https://localhost:8080/",
          "height": 37
        },
        "id": "6hct_MDND-ZB",
        "outputId": "5ceb78d0-0491-4e06-c378-30650a7bfda0"
      },
      "source": [
        "clean('. По))ка!')"
      ],
      "execution_count": null,
      "outputs": [
        {
          "output_type": "execute_result",
          "data": {
            "application/vnd.google.colaboratory.intrinsic+json": {
              "type": "string"
            },
            "text/plain": [
              "'пока'"
            ]
          },
          "metadata": {},
          "execution_count": 82
        }
      ]
    },
    {
      "cell_type": "code",
      "metadata": {
        "id": "uKDLR7k36pyU"
      },
      "source": [
        "def clean(text):\n",
        "  clean_text = ''\n",
        "  for char in text.lower():\n",
        "    if char in 'абвгдеёжзийклмнопрстуфхцчшщъыьэюя':\n",
        "      clean_text = clean_text + char\n",
        "  return clean_text\n",
        "\n",
        "def get_intent(text):\n",
        "  for intent in BOT_CONFIG['intents'].keys():\n",
        "    for example in BOT_CONFIG['intents'][intent]['examples']:\n",
        "      if text == example:\n",
        "        return intent\n",
        "  return 'intent not found :('"
      ],
      "execution_count": null,
      "outputs": []
    },
    {
      "cell_type": "code",
      "metadata": {
        "id": "9eADTbuDB3x9"
      },
      "source": [
        "def bot(text):\n",
        "  intent = get_intent(text)\n",
        "  if intent != 'intent not found :(':\n",
        "    print(random.choice(BOT_CONFIG['intents'][intent]['responses']))\n",
        "  else:\n",
        "    print('intent not found :(')"
      ],
      "execution_count": null,
      "outputs": []
    },
    {
      "cell_type": "code",
      "metadata": {
        "colab": {
          "base_uri": "https://localhost:8080/"
        },
        "id": "pYJXunWHCgsE",
        "outputId": "52d4acee-de42-4621-90c4-e38420353736"
      },
      "source": [
        "input_text = ''\n",
        "while input_text != 'STOP':\n",
        "  input_text = input()\n",
        "  bot(input_text)"
      ],
      "execution_count": null,
      "outputs": [
        {
          "output_type": "stream",
          "name": "stdout",
          "text": [
            "Привет!\n",
            "Доброе утро!\n",
            "Пока!\n",
            "Спокойной ночи)\n",
            "ааа\n",
            "intent not found :(\n",
            "ааа\n",
            "intent not found :(\n",
            "STOP\n",
            "intent not found :(\n"
          ]
        }
      ]
    },
    {
      "cell_type": "code",
      "metadata": {
        "id": "qrQFYzfgCn1C"
      },
      "source": [
        ""
      ],
      "execution_count": null,
      "outputs": []
    }
  ]
}